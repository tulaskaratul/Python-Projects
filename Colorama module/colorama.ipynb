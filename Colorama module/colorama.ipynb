{
 "cells": [
  {
   "cell_type": "code",
   "execution_count": 1,
   "metadata": {},
   "outputs": [
    {
     "name": "stdout",
     "output_type": "stream",
     "text": [
      "My name is Shiv I am your friend\n",
      "Hi, My Name is Shibu \n",
      "Hi, I am Ninja\n"
     ]
    }
   ],
   "source": [
    "#print colored text with puthon using colorama module\n",
    "\n",
    "import colorama\n",
    "\n",
    "from colorama import Fore, Back, Style\n",
    "\n",
    "colorama.init(autoreset=True)\n",
    "\n",
    "print(Fore.BLUE+Back.YELLOW+\"My name is Shiv \" + Fore.YELLOW+Back.BLUE+ \"I am your friend\")\n",
    "\n",
    "print(Back.CYAN+\"Hi, My Name is Shibu \")\n",
    "\n",
    "print(Fore.RED+Back.GREEN+\"Hi, I am Ninja\")"
   ]
  }
 ],
 "metadata": {
  "interpreter": {
   "hash": "e2fb31f127fed1e79f709faf34890f85681c06e7e30d28a328e5c7500cdf6725"
  },
  "kernelspec": {
   "display_name": "Python 3.7.9 64-bit",
   "name": "python3"
  },
  "language_info": {
   "codemirror_mode": {
    "name": "ipython",
    "version": 3
   },
   "file_extension": ".py",
   "mimetype": "text/x-python",
   "name": "python",
   "nbconvert_exporter": "python",
   "pygments_lexer": "ipython3",
   "version": "3.10.1"
  },
  "orig_nbformat": 4
 },
 "nbformat": 4,
 "nbformat_minor": 2
}
