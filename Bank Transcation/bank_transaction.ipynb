{
 "cells": [
  {
   "cell_type": "code",
   "execution_count": null,
   "metadata": {},
   "outputs": [],
   "source": [
    "class Bank:\n",
    "    def __init__(self):\n",
    "        print(\"the account is created\")\n",
    "    def deposit(self):\n",
    "        amount=float(input(\"Enter the amount to be deposit\"))\n",
    "        self.balance=self.balanced+amount\n",
    "        print(\"deposit is successful and the balance in the account is %f\" %self.balance)\n",
    "\n",
    "    def withdraw(self):\n",
    "        amount=float(input(\"Enter the amount to withdraw\"))\n",
    "        if(self.balance>=amount):\n",
    "            self.balance=self.balance-amount\n",
    "            print(\"insufficient balance\")\n",
    "    def enquiry(self):\n",
    "        print(\"balance in the account is %f\" ,self.balance) \n",
    "acc=Bank()\n",
    "acc.deposit()\n",
    "acc.withdraw()\n"
   ]
  }
 ],
 "metadata": {
  "interpreter": {
   "hash": "6334383e79527d93b7993bdb2452a21aebe0c30f67772b532e3b1f14a26a5825"
  },
  "kernelspec": {
   "display_name": "Python 3.9.7 64-bit (windows store)",
   "name": "python3"
  },
  "language_info": {
   "name": "python",
   "version": "3.9.7"
  },
  "orig_nbformat": 4
 },
 "nbformat": 4,
 "nbformat_minor": 2
}
