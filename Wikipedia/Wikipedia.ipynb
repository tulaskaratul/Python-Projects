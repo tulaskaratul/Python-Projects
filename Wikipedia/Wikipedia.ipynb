{
 "cells": [
  {
   "cell_type": "code",
   "execution_count": 1,
   "id": "01a0ea07",
   "metadata": {},
   "outputs": [
    {
     "name": "stdout",
     "output_type": "stream",
     "text": [
      "Collecting pywhatkitNote: you may need to restart the kernel to use updated packages.\n"
     ]
    },
    {
     "name": "stderr",
     "output_type": "stream",
     "text": [
      "  WARNING: The script normalizer.exe is installed in 'C:\\Users\\Atul Tulaskar\\AppData\\Local\\Packages\\PythonSoftwareFoundation.Python.3.10_qbz5n2kfra8p0\\LocalCache\\local-packages\\Python310\\Scripts' which is not on PATH.\n",
      "  Consider adding this directory to PATH or, if you prefer to suppress this warning, use --no-warn-script-location."
     ]
    },
    {
     "name": "stdout",
     "output_type": "stream",
     "text": [
      "\n",
      "  Downloading pywhatkit-5.2-py3-none-any.whl (11 kB)\n",
      "Collecting requests\n",
      "  Using cached requests-2.26.0-py2.py3-none-any.whl (62 kB)\n",
      "Collecting wikipedia\n",
      "  Downloading wikipedia-1.4.0.tar.gz (27 kB)\n",
      "  Preparing metadata (setup.py): started\n",
      "  Preparing metadata (setup.py): finished with status 'done'\n",
      "Collecting pyautogui\n",
      "  Downloading PyAutoGUI-0.9.53.tar.gz (59 kB)\n",
      "  Preparing metadata (setup.py): started\n",
      "  Preparing metadata (setup.py): finished with status 'done'\n",
      "Collecting Pillow\n",
      "  Using cached Pillow-8.4.0-cp310-cp310-win_amd64.whl (3.2 MB)\n",
      "Collecting pymsgbox\n",
      "  Downloading PyMsgBox-1.0.9.tar.gz (18 kB)\n",
      "  Installing build dependencies: started\n",
      "  Installing build dependencies: finished with status 'done'\n",
      "  Getting requirements to build wheel: started\n",
      "  Getting requirements to build wheel: finished with status 'done'\n",
      "  Preparing metadata (pyproject.toml): started\n",
      "  Preparing metadata (pyproject.toml): finished with status 'done'\n",
      "Collecting PyTweening>=1.0.1\n",
      "  Downloading pytweening-1.0.4.tar.gz (14 kB)\n",
      "  Preparing metadata (setup.py): started\n",
      "  Preparing metadata (setup.py): finished with status 'done'\n",
      "Collecting pyscreeze>=0.1.21\n",
      "  Downloading PyScreeze-0.1.28.tar.gz (25 kB)\n",
      "  Installing build dependencies: started\n",
      "  Installing build dependencies: finished with status 'done'\n",
      "  Getting requirements to build wheel: started\n",
      "  Getting requirements to build wheel: finished with status 'done'\n",
      "  Preparing metadata (pyproject.toml): started\n",
      "  Preparing metadata (pyproject.toml): finished with status 'done'\n",
      "Collecting pygetwindow>=0.0.5\n",
      "  Downloading PyGetWindow-0.0.9.tar.gz (9.7 kB)\n",
      "  Preparing metadata (setup.py): started\n",
      "  Preparing metadata (setup.py): finished with status 'done'\n",
      "Collecting mouseinfo\n",
      "  Downloading MouseInfo-0.1.3.tar.gz (10 kB)\n",
      "  Preparing metadata (setup.py): started\n",
      "  Preparing metadata (setup.py): finished with status 'done'\n",
      "Collecting urllib3<1.27,>=1.21.1\n",
      "  Using cached urllib3-1.26.7-py2.py3-none-any.whl (138 kB)\n",
      "Requirement already satisfied: certifi>=2017.4.17 in c:\\users\\atul tulaskar\\appdata\\local\\packages\\pythonsoftwarefoundation.python.3.10_qbz5n2kfra8p0\\localcache\\local-packages\\python310\\site-packages (from requests->pywhatkit) (2021.10.8)\n",
      "Collecting charset-normalizer~=2.0.0\n",
      "  Downloading charset_normalizer-2.0.9-py3-none-any.whl (39 kB)\n",
      "Collecting idna<4,>=2.5\n",
      "  Using cached idna-3.3-py3-none-any.whl (61 kB)\n",
      "Collecting beautifulsoup4\n",
      "  Downloading beautifulsoup4-4.10.0-py3-none-any.whl (97 kB)\n",
      "Collecting pyrect\n",
      "  Downloading PyRect-0.1.4.tar.gz (15 kB)\n",
      "  Preparing metadata (setup.py): started\n",
      "  Preparing metadata (setup.py): finished with status 'done'\n",
      "Collecting soupsieve>1.2\n",
      "  Downloading soupsieve-2.3.1-py3-none-any.whl (37 kB)\n",
      "Collecting pyperclip\n",
      "  Downloading pyperclip-1.8.2.tar.gz (20 kB)\n",
      "  Preparing metadata (setup.py): started\n",
      "  Preparing metadata (setup.py): finished with status 'done'\n",
      "Using legacy 'setup.py install' for pyautogui, since package 'wheel' is not installed.\n",
      "Using legacy 'setup.py install' for wikipedia, since package 'wheel' is not installed.\n",
      "Using legacy 'setup.py install' for pygetwindow, since package 'wheel' is not installed.\n",
      "Using legacy 'setup.py install' for PyTweening, since package 'wheel' is not installed.\n",
      "Using legacy 'setup.py install' for mouseinfo, since package 'wheel' is not installed.\n",
      "Using legacy 'setup.py install' for pyperclip, since package 'wheel' is not installed.\n",
      "Using legacy 'setup.py install' for pyrect, since package 'wheel' is not installed.\n",
      "Building wheels for collected packages: pyscreeze, pymsgbox\n",
      "  Building wheel for pyscreeze (pyproject.toml): started\n",
      "  Building wheel for pyscreeze (pyproject.toml): finished with status 'done'\n",
      "  Created wheel for pyscreeze: filename=PyScreeze-0.1.28-py3-none-any.whl size=13023 sha256=ad1bc4bb6af8a08f682f94c3495d43c1d3c78a30e2cc51cfda127f515143b47e\n",
      "  Stored in directory: c:\\users\\atul tulaskar\\appdata\\local\\pip\\cache\\wheels\\03\\86\\12\\abd9680f6f63999ec0433afdbca9d26201eae26247bbbfb3a8\n",
      "  Building wheel for pymsgbox (pyproject.toml): started\n",
      "  Building wheel for pymsgbox (pyproject.toml): finished with status 'done'\n",
      "  Created wheel for pymsgbox: filename=PyMsgBox-1.0.9-py3-none-any.whl size=7420 sha256=c20c0fa2cbd5bcaef740218169f6c4ba4416c6aa60ad301d82bb8c3049d4b319\n",
      "  Stored in directory: c:\\users\\atul tulaskar\\appdata\\local\\pip\\cache\\wheels\\b9\\6a\\ba\\be2d7d78166ec8018c21d07241dffa54446c09652a267759ae\n",
      "Successfully built pyscreeze pymsgbox\n",
      "Installing collected packages: urllib3, soupsieve, pyrect, pyperclip, idna, charset-normalizer, requests, PyTweening, pyscreeze, pymsgbox, pygetwindow, mouseinfo, beautifulsoup4, wikipedia, pyautogui, Pillow, pywhatkit\n",
      "    Running setup.py install for pyrect: started\n",
      "    Running setup.py install for pyrect: finished with status 'done'\n",
      "    Running setup.py install for pyperclip: started\n",
      "    Running setup.py install for pyperclip: finished with status 'done'\n",
      "    Running setup.py install for PyTweening: started\n",
      "    Running setup.py install for PyTweening: finished with status 'done'\n",
      "    Running setup.py install for pygetwindow: started\n",
      "    Running setup.py install for pygetwindow: finished with status 'done'\n",
      "    Running setup.py install for mouseinfo: started\n",
      "    Running setup.py install for mouseinfo: finished with status 'done'\n",
      "    Running setup.py install for wikipedia: started\n",
      "    Running setup.py install for wikipedia: finished with status 'done'\n",
      "    Running setup.py install for pyautogui: started\n",
      "    Running setup.py install for pyautogui: finished with status 'done'\n",
      "Successfully installed Pillow-8.4.0 PyTweening-1.0.4 beautifulsoup4-4.10.0 charset-normalizer-2.0.9 idna-3.3 mouseinfo-0.1.3 pyautogui-0.9.53 pygetwindow-0.0.9 pymsgbox-1.0.9 pyperclip-1.8.2 pyrect-0.1.4 pyscreeze-0.1.28 pywhatkit-5.2 requests-2.26.0 soupsieve-2.3.1 urllib3-1.26.7 wikipedia-1.4.0\n"
     ]
    },
    {
     "name": "stderr",
     "output_type": "stream",
     "text": [
      "\n"
     ]
    }
   ],
   "source": [
    "pip install pywhatkit"
   ]
  },
  {
   "cell_type": "code",
   "execution_count": 2,
   "id": "102b42eb",
   "metadata": {},
   "outputs": [],
   "source": [
    "import pywhatkit as pwt"
   ]
  },
  {
   "cell_type": "code",
   "execution_count": 3,
   "id": "54366c14",
   "metadata": {},
   "outputs": [
    {
     "name": "stdout",
     "output_type": "stream",
     "text": [
      "Space is the boundless three-dimensional extent in which objects and events have relative position and direction. In classical physics, physical space is often conceived in three linear dimensions, although modern physicists usually consider it, with time, to be part of a boundless four-dimensional continuum known as spacetime. The concept of space is considered to be of fundamental importance to an understanding of the physical universe. However, disagreement continues between philosophers over whether it is itself an entity, a relationship between entities, or part of a conceptual framework.\n",
      "Debates concerning the nature, essence and the mode of existence of space date back to antiquity; namely, to treatises like the Timaeus of Plato, or Socrates in his reflections on what the Greeks called khôra (i.e. \"space\"), or in the Physics of Aristotle (Book IV, Delta) in the definition of topos (i.e. place), or in the later \"geometrical conception of place\" as \"space qua extension\" in the Discourse on Place (Qawl fi al-Makan) of the 11th-century Arab polymath Alhazen. Many of these classical philosophical questions were discussed in the Renaissance and then reformulated in the 17th century, particularly during the early development of classical mechanics. In Isaac Newton's view, space was absolute—in the sense that it existed permanently and independently of whether there was any matter in the space. Other natural philosophers, notably Gottfried Leibniz, thought instead that space was in fact a collection of relations between objects, given by their distance and direction from one another.\n"
     ]
    }
   ],
   "source": [
    "pwt.info(\"SpaceX\", 10)"
   ]
  },
  {
   "cell_type": "code",
   "execution_count": 4,
   "id": "9019c9f6",
   "metadata": {},
   "outputs": [
    {
     "name": "stdout",
     "output_type": "stream",
     "text": [
      "Tesla, Inc. ( TESS-lə or  TEZ-lə) is an American electric vehicle and clean energy company based in Austin, Texas, United States. Tesla designs and manufactures electric cars, battery energy storage from home to grid-scale, solar panels and solar roof tiles, and related products and services.\n"
     ]
    }
   ],
   "source": [
    "pwt.info(\"Tesla,Inc\")"
   ]
  }
 ],
 "metadata": {
  "interpreter": {
   "hash": "e2fb31f127fed1e79f709faf34890f85681c06e7e30d28a328e5c7500cdf6725"
  },
  "kernelspec": {
   "display_name": "Python 3.7.9 64-bit",
   "name": "python3"
  },
  "language_info": {
   "codemirror_mode": {
    "name": "ipython",
    "version": 3
   },
   "file_extension": ".py",
   "mimetype": "text/x-python",
   "name": "python",
   "nbconvert_exporter": "python",
   "pygments_lexer": "ipython3",
   "version": "3.10.1"
  }
 },
 "nbformat": 4,
 "nbformat_minor": 5
}
