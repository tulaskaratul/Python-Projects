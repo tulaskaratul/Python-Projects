{
 "cells": [
  {
   "cell_type": "code",
   "execution_count": 1,
   "metadata": {},
   "outputs": [],
   "source": [
    "#Importing tkinter module (the standard GUI library for Python)\n",
    "from tkinter import *\n",
    "#importing calendar module\n",
    "import calendar\n",
    "\n",
    "#function to show calendar of the given year Tk().\n",
    "#It helps to display the root window and manages all the other components of the tkinter application.\n",
    "def showCalender():\n",
    "    gui = Tk()\n",
    "     #create an instance of tkinter frame, i.e., Tk()\n",
    "    gui.config(background='grey')\n",
    "    gui.title(\"Calender for the year\")\n",
    "    gui.geometry(\"550x600\")\n",
    "    year = int(year_field.get())\n",
    "    gui_content= calendar.calendar(year)\n",
    "    calYear = Label(gui, text= gui_content, font= \"Consolas 10 bold\")\n",
    "    calYear.grid(row=5, column=1,padx=20)\n",
    "    gui.mainloop()\n",
    "\n",
    "    #Driver code(perform computations on the input data and present the output to the end user)\n",
    "#variable will be set as  __main__ if the module that is being run is the main program.\n",
    "if __name__=='__main__':\n",
    "    new = Tk()\n",
    "    new.config(background='grey')\n",
    "    new.title(\"Calender\")\n",
    "    new.geometry(\"250x140\")\n",
    "    cal = Label(new, text=\"Calender\",bg='grey',font=(\"times\", 28, \"bold\"))\n",
    "    year = Label(new, text=\"Enter year\", bg='dark grey')\n",
    "    year_field=Entry(new)\n",
    "    button = Button(new, text='Show Calender',\n",
    "fg='Black',bg='Blue',command=showCalender)\n",
    "\n",
    "    #putting widgets in position\n",
    "    cal.grid(row=1, column=1)\n",
    "    year.grid(row=2, column=1)\n",
    "    year_field.grid(row=3, column=1)\n",
    "    button.grid(row=4, column=1)\n",
    "    #Exit.grid(row=6, column=1)\n",
    "    #mainloop() is an infinite loop used to run the application,\n",
    "    #wait for an event to occur and process the event as long as the window is not closed.\n",
    "    new.mainloop()"
   ]
  }
 ],
 "metadata": {
  "interpreter": {
   "hash": "c68532047f05b16812abdfc5773822c77ab2414503bb8f7ff800bf5a8bc243e6"
  },
  "kernelspec": {
   "display_name": "Python 3.10.0 64-bit (windows store)",
   "language": "python",
   "name": "python3"
  },
  "language_info": {
   "codemirror_mode": {
    "name": "ipython",
    "version": 3
   },
   "file_extension": ".py",
   "mimetype": "text/x-python",
   "name": "python",
   "nbconvert_exporter": "python",
   "pygments_lexer": "ipython3",
   "version": "3.10.1"
  },
  "orig_nbformat": 4
 },
 "nbformat": 4,
 "nbformat_minor": 2
}
