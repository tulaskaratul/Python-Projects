{
 "cells": [
  {
   "cell_type": "code",
   "execution_count": 1,
   "metadata": {},
   "outputs": [],
   "source": [
    "# Email slicer with python emaila@abc.com\n",
    "# your user name is:\n",
    "# your domain is:\n",
    "# strip function to remove white spaces if any "
   ]
  },
  {
   "cell_type": "code",
   "execution_count": 2,
   "metadata": {},
   "outputs": [
    {
     "name": "stdout",
     "output_type": "stream",
     "text": [
      "Your username is 'tulaskaratul' and your domain name is 'gmail.com'\n"
     ]
    }
   ],
   "source": [
    "email = input(\"What is your email address?: \").strip()\n",
    "\n",
    "# Slice the user name\n",
    "user_name = email[:email.index(\"@\")]\n",
    "\n",
    "# Slice the domain name\n",
    "domain_name = email[email.index(\"@\")+1:]\n",
    "\n",
    "# Format\n",
    "result = \"Your username is '{}' and your domain name is '{}'\".format(user_name,domain_name)\n",
    "\n",
    "# Display result\n",
    "print(result)"
   ]
  }
 ],
 "metadata": {
  "interpreter": {
   "hash": "e2fb31f127fed1e79f709faf34890f85681c06e7e30d28a328e5c7500cdf6725"
  },
  "kernelspec": {
   "display_name": "Python 3.7.9 64-bit",
   "name": "python3"
  },
  "language_info": {
   "codemirror_mode": {
    "name": "ipython",
    "version": 3
   },
   "file_extension": ".py",
   "mimetype": "text/x-python",
   "name": "python",
   "nbconvert_exporter": "python",
   "pygments_lexer": "ipython3",
   "version": "3.10.1"
  },
  "orig_nbformat": 4
 },
 "nbformat": 4,
 "nbformat_minor": 2
}
