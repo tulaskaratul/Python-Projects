{
 "cells": [
  {
   "cell_type": "code",
   "execution_count": 1,
   "metadata": {},
   "outputs": [],
   "source": [
    "from difflib import SequenceMatcher"
   ]
  },
  {
   "cell_type": "code",
   "execution_count": 4,
   "metadata": {},
   "outputs": [
    {
     "name": "stdout",
     "output_type": "stream",
     "text": [
      "61.53846153846154\n"
     ]
    }
   ],
   "source": [
    "with open(\"1.txt\") as file1, open(\"2.txt\") as file2:\n",
    "    file1data=file1.read()\n",
    "    file2data=file2.read()\n",
    "    similarity=SequenceMatcher(None, file1data,file2data).ratio()\n",
    "    print(similarity*100)"
   ]
  }
 ],
 "metadata": {
  "interpreter": {
   "hash": "6334383e79527d93b7993bdb2452a21aebe0c30f67772b532e3b1f14a26a5825"
  },
  "kernelspec": {
   "display_name": "Python 3.9.7 64-bit (windows store)",
   "name": "python3"
  },
  "language_info": {
   "codemirror_mode": {
    "name": "ipython",
    "version": 3
   },
   "file_extension": ".py",
   "mimetype": "text/x-python",
   "name": "python",
   "nbconvert_exporter": "python",
   "pygments_lexer": "ipython3",
   "version": "3.9.7"
  },
  "orig_nbformat": 4
 },
 "nbformat": 4,
 "nbformat_minor": 2
}
