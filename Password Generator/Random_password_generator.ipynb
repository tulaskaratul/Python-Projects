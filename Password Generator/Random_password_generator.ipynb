{
 "cells": [
  {
   "cell_type": "code",
   "execution_count": 1,
   "id": "faf5d844",
   "metadata": {},
   "outputs": [],
   "source": [
    "import random\n",
    "import string"
   ]
  },
  {
   "cell_type": "code",
   "execution_count": 2,
   "id": "0331b0c3",
   "metadata": {},
   "outputs": [],
   "source": [
    "# mixed of small letters using password\n",
    "def generate_strong_password(len):\n",
    "    alphabets=string.ascii_lowercase\n",
    "    return ''.join(random.choice(alphabets) for i in range(len))"
   ]
  },
  {
   "cell_type": "code",
   "execution_count": 3,
   "id": "bd192f89",
   "metadata": {},
   "outputs": [],
   "source": [
    "alphabets=string.ascii_lowercase"
   ]
  },
  {
   "cell_type": "code",
   "execution_count": 4,
   "id": "f89af779",
   "metadata": {},
   "outputs": [
    {
     "data": {
      "text/plain": [
       "'abcdefghijklmnopqrstuvwxyz'"
      ]
     },
     "execution_count": 4,
     "metadata": {},
     "output_type": "execute_result"
    }
   ],
   "source": [
    "alphabets"
   ]
  },
  {
   "cell_type": "code",
   "execution_count": 5,
   "id": "85b8f454",
   "metadata": {},
   "outputs": [],
   "source": [
    "av = random.choice(alphabets)"
   ]
  },
  {
   "cell_type": "code",
   "execution_count": 6,
   "id": "539c1cae",
   "metadata": {},
   "outputs": [
    {
     "data": {
      "text/plain": [
       "'o'"
      ]
     },
     "execution_count": 6,
     "metadata": {},
     "output_type": "execute_result"
    }
   ],
   "source": [
    "av"
   ]
  },
  {
   "cell_type": "code",
   "execution_count": 7,
   "id": "bc3b64e5",
   "metadata": {},
   "outputs": [],
   "source": [
    "len=8\n",
    "a=generate_strong_password(len)"
   ]
  },
  {
   "cell_type": "code",
   "execution_count": 8,
   "id": "f9166e9d",
   "metadata": {},
   "outputs": [
    {
     "data": {
      "text/plain": [
       "'htjzsoxf'"
      ]
     },
     "execution_count": 8,
     "metadata": {},
     "output_type": "execute_result"
    }
   ],
   "source": [
    "a"
   ]
  },
  {
   "cell_type": "code",
   "execution_count": 9,
   "id": "79ce22dc",
   "metadata": {},
   "outputs": [],
   "source": [
    "#mixed of small and capital letters using password\n",
    "def generate_strong_password(len):\n",
    "    alphabets_and_numbers=string.ascii_letters+string.digits\n",
    "    return ''.join(random.choice(alphabets) for i in range(len))"
   ]
  },
  {
   "cell_type": "code",
   "execution_count": 10,
   "id": "75461ce4",
   "metadata": {},
   "outputs": [
    {
     "data": {
      "text/plain": [
       "'abcdefghijklmnopqrstuvwxyzABCDEFGHIJKLMNOPQRSTUVWXYZ'"
      ]
     },
     "execution_count": 10,
     "metadata": {},
     "output_type": "execute_result"
    }
   ],
   "source": [
    "alphabets=string.ascii_letters\n",
    "alphabets"
   ]
  },
  {
   "cell_type": "code",
   "execution_count": 11,
   "id": "b06e4d29",
   "metadata": {},
   "outputs": [],
   "source": [
    "len=10\n",
    "b=generate_strong_password(len)"
   ]
  },
  {
   "cell_type": "code",
   "execution_count": 12,
   "id": "bc8e8238",
   "metadata": {},
   "outputs": [
    {
     "data": {
      "text/plain": [
       "'dgIPateklA'"
      ]
     },
     "execution_count": 12,
     "metadata": {},
     "output_type": "execute_result"
    }
   ],
   "source": [
    "b"
   ]
  },
  {
   "cell_type": "code",
   "execution_count": 13,
   "id": "e0b79fc0",
   "metadata": {},
   "outputs": [],
   "source": [
    "#mixed of small, capital letters & numbers using password\n",
    "def generate_strong_password(len):\n",
    "    alphabets_and_numbers=string.ascii_letters+string.digits\n",
    "    return ''.join(random.choice(alphabets_and_numbers) for i in range(len))"
   ]
  },
  {
   "cell_type": "code",
   "execution_count": 14,
   "id": "a5d7ef50",
   "metadata": {},
   "outputs": [
    {
     "data": {
      "text/plain": [
       "'abcdefghijklmnopqrstuvwxyzABCDEFGHIJKLMNOPQRSTUVWXYZ0123456789'"
      ]
     },
     "execution_count": 14,
     "metadata": {},
     "output_type": "execute_result"
    }
   ],
   "source": [
    "alphabets_and_numbers=string.ascii_letters+string.digits\n",
    "alphabets_and_numbers"
   ]
  },
  {
   "cell_type": "code",
   "execution_count": 15,
   "id": "ac63584c",
   "metadata": {},
   "outputs": [],
   "source": [
    "len=10\n",
    "c=generate_strong_password(len)"
   ]
  },
  {
   "cell_type": "code",
   "execution_count": 16,
   "id": "f20e6e46",
   "metadata": {},
   "outputs": [
    {
     "data": {
      "text/plain": [
       "'Dg3Y1Hxjvk'"
      ]
     },
     "execution_count": 16,
     "metadata": {},
     "output_type": "execute_result"
    }
   ],
   "source": [
    "c"
   ]
  },
  {
   "cell_type": "code",
   "execution_count": 17,
   "id": "faaca744",
   "metadata": {},
   "outputs": [],
   "source": [
    "#mixed of small, capital letters, numbers and special characters using password\n",
    "special_chars =  ['$', '&', '!']\n",
    "def generate_strong_password(len):\n",
    "    alphabets_numbers_special_chars=string.ascii_letters+string.digits+string.punctuation\n",
    "    return ''.join(random.choice(alphabets_numbers_special_chars) for i in range(len))"
   ]
  },
  {
   "cell_type": "code",
   "execution_count": 18,
   "id": "6eec8e05",
   "metadata": {},
   "outputs": [
    {
     "data": {
      "text/plain": [
       "'abcdefghijklmnopqrstuvwxyzABCDEFGHIJKLMNOPQRSTUVWXYZ0123456789!\"#$%&\\'()*+,-./:;<=>?@[\\\\]^_`{|}~'"
      ]
     },
     "execution_count": 18,
     "metadata": {},
     "output_type": "execute_result"
    }
   ],
   "source": [
    "alphabets_numbers_special_chars=string.ascii_letters+string.digits+string.punctuation\n",
    "alphabets_numbers_special_chars"
   ]
  },
  {
   "cell_type": "code",
   "execution_count": 19,
   "id": "c4a36f30",
   "metadata": {},
   "outputs": [],
   "source": [
    "len=10\n",
    "d=generate_strong_password(len)"
   ]
  },
  {
   "cell_type": "code",
   "execution_count": 20,
   "id": "95b4ff86",
   "metadata": {},
   "outputs": [
    {
     "data": {
      "text/plain": [
       "'aL[P$J(thV'"
      ]
     },
     "execution_count": 20,
     "metadata": {},
     "output_type": "execute_result"
    }
   ],
   "source": [
    "d"
   ]
  }
 ],
 "metadata": {
  "interpreter": {
   "hash": "e2fb31f127fed1e79f709faf34890f85681c06e7e30d28a328e5c7500cdf6725"
  },
  "kernelspec": {
   "display_name": "Python 3.7.9 64-bit",
   "name": "python3"
  },
  "language_info": {
   "codemirror_mode": {
    "name": "ipython",
    "version": 3
   },
   "file_extension": ".py",
   "mimetype": "text/x-python",
   "name": "python",
   "nbconvert_exporter": "python",
   "pygments_lexer": "ipython3",
   "version": "3.10.1"
  }
 },
 "nbformat": 4,
 "nbformat_minor": 5
}
